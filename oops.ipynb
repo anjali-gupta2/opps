{
  "nbformat": 4,
  "nbformat_minor": 0,
  "metadata": {
    "colab": {
      "provenance": []
    },
    "kernelspec": {
      "name": "python3",
      "display_name": "Python 3"
    },
    "language_info": {
      "name": "python"
    }
  },
  "cells": [
    {
      "cell_type": "markdown",
      "source": [
        "#OOPS Assignment"
      ],
      "metadata": {
        "id": "ekQkaxcXgL5p"
      }
    },
    {
      "cell_type": "markdown",
      "source": [
        "#Python OOPs Questions"
      ],
      "metadata": {
        "id": "r8nm644HgUOZ"
      }
    },
    {
      "cell_type": "markdown",
      "source": [
        "1. What is Object-Oriented Programming (OOP)"
      ],
      "metadata": {
        "id": "sZhp2_PMgmZu"
      }
    },
    {
      "cell_type": "markdown",
      "source": [
        "-> Object-Oriented Programming (OOP) in Python is a programming paradigm that structures code around objects rather than functions or logic. It aims to model real-world entities and their interactions, leading to more organized, reusable, and maintainable code."
      ],
      "metadata": {
        "id": "cKCbrDyLg1aW"
      }
    },
    {
      "cell_type": "markdown",
      "source": [
        "2.  What is a class in OOP"
      ],
      "metadata": {
        "id": "l1d7lbIahU6y"
      }
    },
    {
      "cell_type": "markdown",
      "source": [
        "-> In Object-Oriented Programming (OOP) in Python, a class serves as a blueprint or a template for creating objects. It defines the structure and behavior that objects of that class will possess."
      ],
      "metadata": {
        "id": "8t5xWvDuhoPV"
      }
    },
    {
      "cell_type": "markdown",
      "source": [
        "3. What is an object in OOP\n"
      ],
      "metadata": {
        "id": "kpEOuK8Shu7Y"
      }
    },
    {
      "cell_type": "markdown",
      "source": [
        "-> In Python's Object-Oriented Programming (OOP) paradigm, an object is a concrete instance of a class. It is the fundamental building block of an OOP application, representing a specific entity with its own unique state and behavior"
      ],
      "metadata": {
        "id": "GxIiqqtIh6HJ"
      }
    },
    {
      "cell_type": "markdown",
      "source": [
        "4. What is the difference between abstraction and encapsulation"
      ],
      "metadata": {
        "id": "4vjp39pAiHHR"
      }
    },
    {
      "cell_type": "markdown",
      "source": [
        "-> Abstraction and encapsulation are two fundamental concepts in object-oriented programming, often confused due to their complementary nature, but they address different aspects of software design.\n",
        "Abstraction focuses on hiding the complex implementation details and presenting only the essential features or functionalities to the user. It defines what an object does without revealing how it achieves it. This is typically implemented through abstract classes and interfaces, which define a contract for behavior without providing the complete implementation.\n",
        "Encapsulation, on the other hand, focuses on bundling data and the methods that operate on that data into a single unit (a class) and restricting direct access to the internal state of an object. It protects data from unintended modifications and ensures that data is accessed and modified only through controlled interfaces, such as getter and setter methods. Encapsulation is about how the internal workings of an object are managed and protected."
      ],
      "metadata": {
        "id": "ApH1XGkGiSzY"
      }
    },
    {
      "cell_type": "markdown",
      "source": [
        "5. What are dunder methods in Python"
      ],
      "metadata": {
        "id": "17FzPsHYijCI"
      }
    },
    {
      "cell_type": "markdown",
      "source": [
        "-> Dunder methods, also known as magic methods, are special methods in Python that have double underscores at the beginning and end of their names (e.g., __init__, __str__, __add__). The term \"dunder\" is a shorthand for \"double underscore.\""
      ],
      "metadata": {
        "id": "NaGxDFHqiqsf"
      }
    },
    {
      "cell_type": "markdown",
      "source": [
        "6.  Explain the concept of inheritance in OOP"
      ],
      "metadata": {
        "id": "l-o7wCIDi8NW"
      }
    },
    {
      "cell_type": "markdown",
      "source": [
        "-> Inheritance in Object-Oriented Programming (OOP) in Python is a mechanism that allows a new class (known as the child class, subclass, or derived class) to inherit attributes and methods from an existing class (known as the parent class, superclass, or base class). This concept promotes code reusability and establishes a hierarchical relationship between classes."
      ],
      "metadata": {
        "id": "MTdU1l5XjD0m"
      }
    },
    {
      "cell_type": "markdown",
      "source": [
        "7. What is polymorphism in OOP"
      ],
      "metadata": {
        "id": "uWb5jICwjPlj"
      }
    },
    {
      "cell_type": "markdown",
      "source": [
        "-> Polymorphism in Object-Oriented Programming (OOP) in Python refers to the ability of an object to take on many forms. It allows a single entity (like a function, method, or operator) to behave differently depending on the data type or object it is applied to. This concept promotes flexibility, reusability, and maintainability in code."
      ],
      "metadata": {
        "id": "NYV_0P5sjYTI"
      }
    },
    {
      "cell_type": "markdown",
      "source": [
        "8.  How is encapsulation achieved in Python"
      ],
      "metadata": {
        "id": "EHM8SKqEjiIv"
      }
    },
    {
      "cell_type": "markdown",
      "source": [
        "-> Encapsulation in Python is achieved through the practice of bundling data (attributes) and the methods that operate on that data within a single unit, which is a class. It also involves controlling access to these attributes and methods, ensuring that the internal state of an object is managed and protected.\n"
      ],
      "metadata": {
        "id": "c1l5Amf2jocI"
      }
    },
    {
      "cell_type": "markdown",
      "source": [
        "9. What is a constructor in Python"
      ],
      "metadata": {
        "id": "HthEv2ijj0ym"
      }
    },
    {
      "cell_type": "markdown",
      "source": [
        "-> n Python, a constructor is a special method used to initialize new objects of a class. When an object (an instance) of a class is created, the constructor is automatically invoked. Its primary purpose is to set up the initial state of the object, which typically involves assigning values to its attributes (instance variables).\n",
        "In Python, the constructor method is always named __init__. This method is part of the class definition and is automatically called whenever an object of that class is instantiated."
      ],
      "metadata": {
        "id": "E7gCemANj8Cy"
      }
    },
    {
      "cell_type": "markdown",
      "source": [
        "10. What are class and static methods in Python"
      ],
      "metadata": {
        "id": "J52TMctMkKwR"
      }
    },
    {
      "cell_type": "markdown",
      "source": [
        "-> In Python, both class methods and static methods are defined within a class but differ in their access to class and instance data, and how they are invoked.\n",
        "Class Methods:\n",
        "Purpose:\n",
        "Class methods are used for operations that involve the class itself, rather than specific instances of the class. They can access and modify class-level attributes.\n",
        "Static Methods:\n",
        "Purpose: Static methods are essentially utility functions that are logically grouped within a class but do not need access to instance-specific or class-level attributes. They behave like regular functions but are part of the class's namespace."
      ],
      "metadata": {
        "id": "p5K8q7e9kTpf"
      }
    },
    {
      "cell_type": "markdown",
      "source": [
        "11. What is method overloading in Python"
      ],
      "metadata": {
        "id": "uAOazF6-kvrS"
      }
    },
    {
      "cell_type": "markdown",
      "source": [
        "-> Method overloading in Python refers to the ability to define methods within a class that share the same name but can behave differently based on the number or types of arguments passed to them. Unlike some other programming languages (e.g., Java or C++), Python does not support classical method overloading where you can define multiple methods with the same name but different signatures (parameter lists)."
      ],
      "metadata": {
        "id": "vfkTgpgTk2v2"
      }
    },
    {
      "cell_type": "markdown",
      "source": [
        "12.  What is method overriding in OOP"
      ],
      "metadata": {
        "id": "GMkVhGYhlB5V"
      }
    },
    {
      "cell_type": "markdown",
      "source": [
        "-> Method overriding in Python is a feature of object-oriented programming where a subclass (child class) provides its own specific implementation for a method that is already defined in its superclass (parent class)."
      ],
      "metadata": {
        "id": "cvKZCiIplB9n"
      }
    },
    {
      "cell_type": "markdown",
      "source": [
        "13. What is a property decorator in Python"
      ],
      "metadata": {
        "id": "3mQugHhVlCBv"
      }
    },
    {
      "cell_type": "markdown",
      "source": [
        "-> A property decorator in Python, denoted by @property, is a built-in decorator that allows a method within a class to be accessed and managed as if it were an attribute. It provides a \"Pythonic\" way to implement getters, setters, and deleters for class attributes, encapsulating the logic associated with accessing, modifying, or deleting an attribute without directly exposing the underlying data."
      ],
      "metadata": {
        "id": "h070tEOmlCHZ"
      }
    },
    {
      "cell_type": "markdown",
      "source": [
        "14. Why is polymorphism important in OOP"
      ],
      "metadata": {
        "id": "p-HKQChslCLh"
      }
    },
    {
      "cell_type": "markdown",
      "source": [
        "-> polymorphism is crucial in object-oriented programming (OOP) because it enables code flexibility, reusability, and maintainability by allowing objects of different types to be treated as objects of a common type. This means you can write code that works with a general interface, without needing to know the specific type of object it's interacting with, leading to more adaptable and efficient software."
      ],
      "metadata": {
        "id": "MbNUHZbmmIzG"
      }
    },
    {
      "cell_type": "markdown",
      "source": [
        "15. What is an abstract class in Python"
      ],
      "metadata": {
        "id": "pp2ktCxWmI3h"
      }
    },
    {
      "cell_type": "markdown",
      "source": [
        "-> An abstract class in Python is a class that serves as a blueprint or template for other classes. It cannot be instantiated directly, meaning you cannot create objects of an abstract class. Its primary purpose is to define a common interface or structure that its subclasses must adhere to."
      ],
      "metadata": {
        "id": "fvlyYfwmmI71"
      }
    },
    {
      "cell_type": "markdown",
      "source": [
        "16. What are the advantages of OOP"
      ],
      "metadata": {
        "id": "4dmW9a8VmI_4"
      }
    },
    {
      "cell_type": "markdown",
      "source": [
        "-> Object-Oriented Programming (OOP) in Python offers several advantages for software development:\n",
        "Code Reusability:\n",
        "Modularity and Organization:\n",
        "Flexibility through Polymorphism:\n",
        "Improved Code Maintainability:\n",
        "Effective Problem Solving\n",
        "Data Security and Control:\n",
        "Scalability:"
      ],
      "metadata": {
        "id": "wQh3YKMFmJEN"
      }
    },
    {
      "cell_type": "markdown",
      "source": [
        "17. What is the difference between a class variable and an instance variable\n"
      ],
      "metadata": {
        "id": "xehbF1WvmJIM"
      }
    },
    {
      "cell_type": "markdown",
      "source": [
        "-> The fundamental difference between a class variable and an instance variable lies in their scope, ownership, and how they are accessed and modified.\n",
        "Class Variable:\n",
        "Definition:\n",
        "Typically defined directly within the class body, outside of any methods or constructors. In some languages like Java, they are declared with the static keyword.\n",
        "Instance Variable:\n",
        "Definition:\n",
        "Typically defined within a constructor or method using self (in Python) or similar mechanisms to associate them with the specific instance being created or modified."
      ],
      "metadata": {
        "id": "pNBRmDjrnO69"
      }
    },
    {
      "cell_type": "markdown",
      "source": [
        "18. What is multiple inheritance in Python"
      ],
      "metadata": {
        "id": "lLV3kHQ4nO_a"
      }
    },
    {
      "cell_type": "markdown",
      "source": [
        "-> Multiple inheritance in Python is a feature that allows a class to inherit attributes and methods from more than one parent class. This means a single child class can be derived from two or more base classes, combining their functionalities."
      ],
      "metadata": {
        "id": "Wc2tGPdWnPDq"
      }
    },
    {
      "cell_type": "markdown",
      "source": [
        "19. Explain the purpose of ‘’__str__’ and ‘__repr__’ ‘ methods in Python"
      ],
      "metadata": {
        "id": "GKG81kU5nPJd"
      }
    },
    {
      "cell_type": "markdown",
      "source": [
        "-> In Python, __str__ and __repr__ are special methods (also known as \"dunder methods\") used to define how an object is represented as a string. They serve different purposes and are intended for different audiences.\n",
        "__str__ (for \"string\"): This method returns a \"user-friendly\" or \"readable\" string representation of an object. Its primary purpose is to provide a human-readable output, suitable for display to end-users, logging, or printing. When you use print() or str() on an object, Python typically calls its __str__ method."
      ],
      "metadata": {
        "id": "xXKaB2X-nPOx"
      }
    },
    {
      "cell_type": "markdown",
      "source": [
        "20. What is the significance of the ‘super()’ function in Python"
      ],
      "metadata": {
        "id": "pT--LIGMnPTR"
      }
    },
    {
      "cell_type": "markdown",
      "source": [
        "-> The super() function in Python holds significant importance in the context of object-oriented programming, particularly concerning inheritance. Its primary significance lies in providing a mechanism to access methods and attributes of a parent or superclass from a child or subclass."
      ],
      "metadata": {
        "id": "jhmuynxdnPXP"
      }
    },
    {
      "cell_type": "markdown",
      "source": [
        "21. What is the significance of the __del__ method in Python"
      ],
      "metadata": {
        "id": "HVUSAZWZohJ8"
      }
    },
    {
      "cell_type": "markdown",
      "source": [
        "-> The __del__ method in Python, often referred to as a \"finalizer,\" is a special method that is called by the Python interpreter when an object is about to be garbage collected. Its primary significance lies in its role in resource management and cleanup."
      ],
      "metadata": {
        "id": "BBgFfDGdohQq"
      }
    },
    {
      "cell_type": "markdown",
      "source": [
        "22.  What is the difference between @staticmethod and @classmethod in Python"
      ],
      "metadata": {
        "id": "5AtGzhzHohWV"
      }
    },
    {
      "cell_type": "markdown",
      "source": [
        "-> The primary difference between @staticmethod and @classmethod in Python lies in their binding and access to class or instance attributes:\n",
        "@classmethod:\n",
        "Takes the class itself (cls) as its first argument.\n",
        "Can access and modify class-level attributes.\n",
        "Commonly used for factory methods (alternative constructors) or methods that operate on class-level data.\n",
        "@staticmethod:\n",
        "Does not take self (instance) or cls (class) as its first argument.\n",
        "Cannot access or modify instance or class attributes directly.\n",
        "Essentially a regular function that is logically grouped within a class, often for utility purposes, but does not depend on the class or instance state."
      ],
      "metadata": {
        "id": "LZb0sJ3vohbL"
      }
    },
    {
      "cell_type": "markdown",
      "source": [
        "23.  How does polymorphism work in Python with inheritance"
      ],
      "metadata": {
        "id": "4i2B3u-wohf_"
      }
    },
    {
      "cell_type": "markdown",
      "source": [
        "-> Polymorphism in Python, particularly in the context of inheritance, allows objects of different classes to be treated as instances of a common type, while each object responds to the same method call in its own specific way. This is primarily achieved through method overriding.\n",
        "Here's how it works:\n",
        "Inheritance:\n",
        "A base class (parent class) defines a method, and one or more derived classes (child classes) inherit from this base class.\n",
        "Method Overriding:\n",
        "A derived class can provide its own implementation for a method that is already defined in its base class. This means the method in the derived class has the same name and signature (parameters) as the method in the base class. When an object of the derived class calls this method, the derived class's implementation is executed instead of the base class's."
      ],
      "metadata": {
        "id": "gGVsAIiVpLzp"
      }
    },
    {
      "cell_type": "markdown",
      "source": [
        "24.  What is method chaining in Python OOP"
      ],
      "metadata": {
        "id": "CYOmfjC0pL45"
      }
    },
    {
      "cell_type": "markdown",
      "source": [
        "-> Method chaining in Python Object-Oriented Programming (OOP) is a technique that allows for the sequential invocation of multiple methods on the same object within a single line of code. This is achieved by having each method in the chain return the object itself (typically self) after performing its action."
      ],
      "metadata": {
        "id": "29alEldppL-O"
      }
    },
    {
      "cell_type": "markdown",
      "source": [
        "25. What is the purpose of the __call__ method in Python"
      ],
      "metadata": {
        "id": "shYdR4WvpME7"
      }
    },
    {
      "cell_type": "markdown",
      "source": [
        "-> The __call__ method in Python allows instances of a class to be invoked or called as if they were regular functions. When this method is defined within a class, calling an object of that class (e.g., my_object()) automatically triggers the execution of the __call__ method."
      ],
      "metadata": {
        "id": "Rxa-uaJ0pMKg"
      }
    },
    {
      "cell_type": "markdown",
      "source": [
        "#Practical Questions\n"
      ],
      "metadata": {
        "id": "ZaX1-k6rpMPO"
      }
    },
    {
      "cell_type": "markdown",
      "source": [
        "1.  Create a parent class Animal with a method speak() that prints a generic message. Create a child class Dog\n",
        "that overrides the speak() method to print \"Bark!"
      ],
      "metadata": {
        "id": "v6SGqbSopMUB"
      }
    },
    {
      "cell_type": "code",
      "source": [
        "class Animal:\n",
        "    def speak(self):\n",
        "        print(\"Generic animal sound\")\n",
        "\n",
        "class Dog(Animal):\n",
        "    def speak(self):\n",
        "        print(\"Bark!\")\n",
        "\n",
        "# Create an instance of the Dog class\n",
        "dog = Dog()"
      ],
      "metadata": {
        "id": "-yu_dR-U_LCZ"
      },
      "execution_count": 1,
      "outputs": []
    },
    {
      "cell_type": "markdown",
      "source": [
        "2.  Write a program to create an abstract class Shape with a method area(). Derive classes Circle and Rectangle\n",
        "from it and implement the area() method in both."
      ],
      "metadata": {
        "id": "W7UQXpnYpMY_"
      }
    },
    {
      "cell_type": "code",
      "source": [
        "from abc import ABC, abstractmethod\n",
        "\n",
        "class Shape(ABC):\n",
        "    @abstractmethod\n",
        "    def area(self):\n",
        "        pass"
      ],
      "metadata": {
        "id": "NHFMMDtS_uWM"
      },
      "execution_count": 2,
      "outputs": []
    },
    {
      "cell_type": "markdown",
      "source": [
        "3.  Implement a multi-level inheritance scenario where a class Vehicle has an attribute type. Derive a class Car\n",
        "and further derive a class ElectricCar that adds a battery attribute."
      ],
      "metadata": {
        "id": "nBTLUBWlpMeM"
      }
    },
    {
      "cell_type": "code",
      "source": [
        "class Vehicle:\n",
        "    def __init__(self, vehicle_type):\n",
        "        self.type = vehicle_type\n",
        "\n",
        "    def get_type(self):\n",
        "        return self.type\n",
        "\n",
        "class Car(Vehicle):\n",
        "    def __init__(self, vehicle_type, make, model):\n",
        "        super().__init__(vehicle_type)\n",
        "        self.make = make\n",
        "        self.model = model\n",
        "\n",
        "    def get_details(self):\n",
        "        return f\"Type: {self.type}, Make: {self.make}, Model: {self.model}\"\n",
        "\n",
        "class ElectricCar(Car):\n",
        "    def __init__(self, vehicle_type, make, model, battery_capacity):\n",
        "        super().__init__(vehicle_type, make, model)\n",
        "        self.battery_capacity = battery_capacity\n",
        "\n",
        "    def get_electric_details(self):\n",
        "        return f\"{self.get_details()}, Battery Capacity: {self.battery_capacity} kWh\"\n",
        "\n",
        "# Example Usage\n",
        "my_vehicle = Vehicle(\"Truck\")\n",
        "print(f\"Vehicle Type: {my_vehicle.get_type()}\")\n",
        "\n",
        "my_car = Car(\"Sedan\", \"Toyota\", \"Camry\")\n",
        "print(f\"Car Details: {my_car.get_details()}\")\n",
        "\n",
        "my_electric_car = ElectricCar(\"EV\", \"Tesla\", \"Model 3\", 75)\n",
        "print(f\"Electric Car Details: {my_electric_car.get_electric_details()}\")"
      ],
      "metadata": {
        "colab": {
          "base_uri": "https://localhost:8080/"
        },
        "id": "6fnD5ihTAMuV",
        "outputId": "0cefc669-f4f9-40df-9cc8-4dc89e323328"
      },
      "execution_count": 3,
      "outputs": [
        {
          "output_type": "stream",
          "name": "stdout",
          "text": [
            "Vehicle Type: Truck\n",
            "Car Details: Type: Sedan, Make: Toyota, Model: Camry\n",
            "Electric Car Details: Type: EV, Make: Tesla, Model: Model 3, Battery Capacity: 75 kWh\n"
          ]
        }
      ]
    },
    {
      "cell_type": "markdown",
      "source": [
        "4. . Demonstrate polymorphism by creating a base class Bird with a method fly(). Create two derived classes\n",
        "Sparrow and Penguin that override the fly() method.\n"
      ],
      "metadata": {
        "id": "K7farrxvpMjT"
      }
    },
    {
      "cell_type": "code",
      "source": [
        "class Bird:\n",
        "    def fly(self):\n",
        "        print(\"Birds can fly\")\n",
        "\n",
        "class Sparrow(Bird):\n",
        "    def fly(self):\n",
        "        print(\"Sparrows can fly at high speeds\")"
      ],
      "metadata": {
        "id": "2ds-MU9mAqZg"
      },
      "execution_count": 4,
      "outputs": []
    },
    {
      "cell_type": "markdown",
      "source": [
        "5.. Write a program to demonstrate encapsulation by creating a class BankAccount with private attributes\n",
        "balance and methods to deposit, withdraw, and check balance."
      ],
      "metadata": {
        "id": "RoIlpXdypMoS"
      }
    },
    {
      "cell_type": "code",
      "source": [
        "class BankAccount:\n",
        "    def __init__(self):\n",
        "        self.balance = 0\n",
        "        print(\"Welcome to the Machine\")\n",
        "\n",
        "    def deposit(self):\n",
        "        amount = float(input(\"Enter amount to be Deposited: \"))\n",
        "        self.balance += amount\n",
        "        print(\"\\nAmount Deposited:\", amount)\n",
        "\n",
        "    def withdraw(self):\n",
        "        amount = float(input(\"Enter amount to be Withdrawn: \"))\n",
        "        if self.balance >= amount:\n",
        "            self.balance -= amount\n",
        "            print(\"\\nYou Withdrew:\", amount)\n",
        "        else:\n",
        "            print(\"\\nInsufficient balance\")\n",
        "\n",
        "    def display(self):\n",
        "        print(\"\\nNet Available Balance =\", self.balance)\n",
        "\n",
        "\n",
        "# Driver code\n",
        "if __name__ == \"__main__\":\n",
        "    s = BankAccount()  # Create an object of BankAccount\n",
        "\n",
        "    s.deposit()        # Deposit money\n",
        "    s.withdraw()       # Withdraw money\n",
        "    s.display()        # Display balance"
      ],
      "metadata": {
        "colab": {
          "base_uri": "https://localhost:8080/"
        },
        "id": "O5CrvAzkA9pJ",
        "outputId": "afe930cd-dc04-44c6-8f20-b0faaf4d8831"
      },
      "execution_count": 2,
      "outputs": [
        {
          "output_type": "stream",
          "name": "stdout",
          "text": [
            "Welcome to the Machine\n",
            "Enter amount to be Deposited: 1000\n",
            "\n",
            "Amount Deposited: 1000.0\n",
            "Enter amount to be Withdrawn: 500\n",
            "\n",
            "You Withdrew: 500.0\n",
            "\n",
            "Net Available Balance = 500.0\n"
          ]
        }
      ]
    },
    {
      "cell_type": "markdown",
      "source": [
        "6. Demonstrate runtime polymorphism using a method play() in a base class Instrument. Derive classes Guitar\n",
        "and Piano that implement their own version of play()."
      ],
      "metadata": {
        "id": "2mnDaUJsA-CG"
      }
    },
    {
      "cell_type": "code",
      "source": [
        "class Instrument:\n",
        "    def play(self):\n",
        "        print(\"Generic instrument sound\")\n",
        "\n",
        "class Guitar(Instrument):\n",
        "    def play(self):\n",
        "        print(\"Guitar is playing\")\n",
        "\n",
        "class Piano(Instrument):\n",
        "    def play(self):\n",
        "        print(\"Piano is playing\")"
      ],
      "metadata": {
        "id": "nznF0QLoUCxE"
      },
      "execution_count": 3,
      "outputs": []
    },
    {
      "cell_type": "markdown",
      "source": [
        "7. . Create a class MathOperations with a class method add_numbers() to add two numbers and a static\n",
        "method subtract_numbers() to subtract two numbers."
      ],
      "metadata": {
        "id": "wqR9B_vGUDYq"
      }
    },
    {
      "cell_type": "code",
      "source": [
        "class MathOperations:\n",
        "    @classmethod\n",
        "    def add_numbers(cls, num1, num2):\n",
        "        return num1 + num2\n",
        "\n",
        "    @staticmethod\n",
        "    def subtract_numbers(num1, num2):\n",
        "        return num1 - num2"
      ],
      "metadata": {
        "id": "UtWUNYs2UVCJ"
      },
      "execution_count": 4,
      "outputs": []
    },
    {
      "cell_type": "markdown",
      "source": [
        "8.  Implement a class Person with a class method to count the total number of persons created."
      ],
      "metadata": {
        "id": "QScOkGDyUfAn"
      }
    },
    {
      "cell_type": "code",
      "source": [
        "class Person:\n",
        "    count = 0\n",
        "\n",
        "    def __init__(self):\n",
        "        Person.count += 1\n",
        "\n",
        "    @classmethod\n",
        "    def get_total_persons(cls):\n",
        "        return cls.count"
      ],
      "metadata": {
        "id": "-VaEAQglUnX4"
      },
      "execution_count": 5,
      "outputs": []
    },
    {
      "cell_type": "markdown",
      "source": [
        "9. Write a class Fraction with attributes numerator and denominator. Override the str method to display the\n",
        "fraction as \"numerator/denominator\"."
      ],
      "metadata": {
        "id": "8VMw-bgpUthm"
      }
    },
    {
      "cell_type": "code",
      "source": [
        "class Fraction:\n",
        "    def __init__(self, numerator, denominator):\n",
        "        self.numerator = numerator\n",
        "        self.denominator = denominator\n",
        "\n",
        "    def __str__(self):\n",
        "        return f\"{self.numerator}/{self.denominator}\""
      ],
      "metadata": {
        "id": "QSmgOJCjUz6e"
      },
      "execution_count": 6,
      "outputs": []
    },
    {
      "cell_type": "markdown",
      "source": [
        "10.  Demonstrate operator overloading by creating a class Vector and overriding the add method to add two\n",
        "vectors."
      ],
      "metadata": {
        "id": "mQ--sRpDU5PR"
      }
    },
    {
      "cell_type": "code",
      "source": [
        "class Vector:\n",
        "    def __init__(self, x, y):\n",
        "        self.x = x\n",
        "        self.y = y\n",
        "\n",
        "    def __add__(self, other):\n",
        "        return Vector(self.x + other.x, self.y + other.y)"
      ],
      "metadata": {
        "id": "u8fQmyDvU3Nd"
      },
      "execution_count": 7,
      "outputs": []
    },
    {
      "cell_type": "markdown",
      "source": [
        "11. . Create a class Person with attributes name and age. Add a method greet() that prints \"Hello, my name is\n",
        "{name} and I am {age} years old.\""
      ],
      "metadata": {
        "id": "4jkW6QVUVKvz"
      }
    },
    {
      "cell_type": "code",
      "source": [
        "class Person:\n",
        "    def __init__(self, name, age):\n",
        "        self.name = name\n",
        "        self.age = age\n",
        "\n",
        "    def greet(self):\n",
        "        print(f\"Hello, my name is {self.name} and I am {self.age} years old.\")"
      ],
      "metadata": {
        "id": "d5tQ41OJVO6m"
      },
      "execution_count": null,
      "outputs": []
    },
    {
      "cell_type": "markdown",
      "source": [
        "12. . Implement a class Student with attributes name and grades. Create a method average_grade() to compute\n",
        "the average of the grades."
      ],
      "metadata": {
        "id": "OqQUfgZKVR7z"
      }
    },
    {
      "cell_type": "code",
      "source": [
        "class Student:\n",
        "    def __init__(self, name):\n",
        "        self.name = name\n",
        "        self.grades = []\n",
        "\n",
        "    def add_grade(self, grade):\n",
        "        self.grades.append(grade)"
      ],
      "metadata": {
        "id": "GCQWTjLGVXV1"
      },
      "execution_count": null,
      "outputs": []
    },
    {
      "cell_type": "markdown",
      "source": [
        "13.  Create a class Rectangle with methods set_dimensions() to set the dimensions and area() to calculate the\n",
        "area."
      ],
      "metadata": {
        "id": "gnAtRhrYVcHw"
      }
    },
    {
      "cell_type": "code",
      "source": [
        "class Rectangle:\n",
        "    def __init__(self):\n",
        "        self.length = 0\n",
        "        self.width = 0\n",
        "\n",
        "    def set_dimensions(self, length, width):\n",
        "        \"\"\"\n",
        "        Sets the length and width of the rectangle.\n",
        "\n",
        "        Args:\n",
        "            length (float or int): The length of the rectangle.\n",
        "            width (float or int): The width of the rectangle.\n",
        "        \"\"\"\n",
        "        if length >= 0 and width >= 0:\n",
        "            self.length = length\n",
        "            self.width = width\n",
        "        else:\n",
        "            print(\"Dimensions cannot be negative.\")\n",
        "\n",
        "    def area(self):\n",
        "        \"\"\"\n",
        "        Calculates and returns the area of the rectangle.\n",
        "\n",
        "        Returns:\n",
        "            float or int: The area of the rectangle.\n",
        "        \"\"\"\n",
        "        return self.length * self.width\n",
        "\n",
        "# Example usage:\n",
        "# Create an instance of the Rectangle class\n",
        "my_rectangle = Rectangle()\n",
        "\n",
        "# Set the dimensions of the rectangle\n",
        "my_rectangle.set_dimensions(5, 8)\n",
        "\n",
        "# Calculate and print the area\n",
        "print(f\"The area of the rectangle is: {my_rectangle.area()}\")\n",
        "\n",
        "# Attempt to set negative dimensions\n",
        "my_rectangle.set_dimensions(-2, 4)"
      ],
      "metadata": {
        "colab": {
          "base_uri": "https://localhost:8080/"
        },
        "id": "LzLI5GFmVhk-",
        "outputId": "3d1f9304-6fee-494b-c4da-e8ff7acf2905"
      },
      "execution_count": 8,
      "outputs": [
        {
          "output_type": "stream",
          "name": "stdout",
          "text": [
            "The area of the rectangle is: 40\n",
            "Dimensions cannot be negative.\n"
          ]
        }
      ]
    },
    {
      "cell_type": "markdown",
      "source": [
        "14. . Create a class Employee with a method calculate_salary() that computes the salary based on hours worked\n",
        "and hourly rate. Create a derived class Manager that adds a bonus to the salary."
      ],
      "metadata": {
        "id": "cF2EvjvuVv2G"
      }
    },
    {
      "cell_type": "code",
      "source": [
        "class Employee:\n",
        "    def __init__(self, name, hours_worked, hourly_rate):\n",
        "        self.name = name\n",
        "        self.hours_worked = hours_worked\n",
        "        self.hourly_rate = hourly_rate"
      ],
      "metadata": {
        "id": "47VvrMTHV4J3"
      },
      "execution_count": null,
      "outputs": []
    },
    {
      "cell_type": "markdown",
      "source": [
        "15. Create a class Product with attributes name, price, and quantity. Implement a method total_price() that\n",
        "calculates the total price of the product.\n",
        "\n",
        "\n"
      ],
      "metadata": {
        "id": "4xu5SeaWV8Km"
      }
    },
    {
      "cell_type": "code",
      "source": [
        "class Product:\n",
        "    def __init__(self, name, price, quantity):\n",
        "        self.name = name\n",
        "        self.price = price\n",
        "        self.quantity = quantity\n",
        "\n",
        "    def total_price(self):\n",
        "        return self.price * self.quantity"
      ],
      "metadata": {
        "id": "_I1YtyI4WGnp"
      },
      "execution_count": null,
      "outputs": []
    },
    {
      "cell_type": "markdown",
      "source": [
        "16. Create a class Animal with an abstract method sound(). Create two derived classes Cow and Sheep that\n",
        "implement the sound() method."
      ],
      "metadata": {
        "id": "iIkx9hUBWNNh"
      }
    },
    {
      "cell_type": "code",
      "source": [
        "from abc import ABC, abstractmethod\n",
        "\n",
        "class Animal(ABC):\n",
        "    @abstractmethod\n",
        "    def sound(self):\n",
        "        pass\n",
        "\n",
        "class Cow(Animal):\n",
        "    def sound(self):\n",
        "        return \"Moo\"\n",
        "\n",
        "class Sheep(Animal):\n",
        "    def sound(self):\n",
        "        return \"Baa\"\n",
        "\n",
        "# Example usage\n",
        "my_cow = Cow()\n",
        "print(f\"Cow says: {my_cow.sound()}\")\n",
        "\n",
        "my_sheep = Sheep()\n",
        "print(f\"Sheep says: {my_sheep.sound()}\")"
      ],
      "metadata": {
        "colab": {
          "base_uri": "https://localhost:8080/"
        },
        "id": "XI-aqbgxWWfa",
        "outputId": "255f61da-d098-4f08-c49e-954c42d1a9a9"
      },
      "execution_count": 9,
      "outputs": [
        {
          "output_type": "stream",
          "name": "stdout",
          "text": [
            "Cow says: Moo\n",
            "Sheep says: Baa\n"
          ]
        }
      ]
    },
    {
      "cell_type": "markdown",
      "source": [
        "17. Create a class Book with attributes title, author, and year_published. Add a method get_book_info() that\n",
        "returns a formatted string with the book's details"
      ],
      "metadata": {
        "id": "A6qjxhcNWaYL"
      }
    },
    {
      "cell_type": "code",
      "source": [
        "class Book:\n",
        "    def __init__(self, title, author, year_published):\n",
        "        \"\"\"\n",
        "        Initializes a new Book object.\n",
        "\n",
        "        Args:\n",
        "            title (str): The title of the book.\n",
        "            author (str): The author of the book.\n",
        "            year_published (int): The year the book was published.\n",
        "        \"\"\"\n",
        "        self.title = title\n",
        "        self.author = author\n",
        "        self.year_published = year_published\n",
        "\n",
        "    def get_book_info(self):\n",
        "        \"\"\"\n",
        "        Returns a formatted string with the book's details.\n",
        "\n",
        "        Returns:\n",
        "            str: A string containing the title, author, and year published.\n",
        "        \"\"\"\n",
        "        return f\"Title: {self.title}\\nAuthor: {self.author}\\nYear Published: {self.year_published}\"\n",
        "\n",
        "# Example usage:\n",
        "if __name__ == \"__main__\":\n",
        "    book1 = Book(\"The Great Gatsby\", \"F. Scott Fitzgerald\", 1925)\n",
        "    print(book1.get_book_info())\n",
        "\n",
        "    print(\"\\n---\")\n",
        "\n",
        "    book2 = Book(\"To Kill a Mockingbird\", \"Harper Lee\", 1960)\n",
        "    print(book2.get_book_info())"
      ],
      "metadata": {
        "id": "pQlV7q4cWqJd"
      },
      "execution_count": null,
      "outputs": []
    },
    {
      "cell_type": "markdown",
      "source": [
        "18. . Create a class House with attributes address and price. Create a derived class Mansion that adds an\n",
        "attribute number_of_rooms."
      ],
      "metadata": {
        "id": "pr4lHPmeWyK5"
      }
    },
    {
      "cell_type": "code",
      "source": [
        "class House:\n",
        "    def __init__(self, address, price):\n",
        "        self.address = address\n",
        "        self.price = price"
      ],
      "metadata": {
        "id": "eRW8MilUWwtp"
      },
      "execution_count": null,
      "outputs": []
    }
  ]
}